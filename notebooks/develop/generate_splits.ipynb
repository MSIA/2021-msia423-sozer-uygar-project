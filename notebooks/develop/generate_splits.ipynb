{
 "cells": [
  {
   "cell_type": "code",
   "execution_count": 1,
   "id": "e8d1c405-b5e9-488f-8b20-2086d70b41c7",
   "metadata": {},
   "outputs": [],
   "source": [
    "import json"
   ]
  },
  {
   "cell_type": "code",
   "execution_count": 4,
   "id": "2d411e7b-b11b-4f22-a19a-2ff55bcd142b",
   "metadata": {},
   "outputs": [],
   "source": [
    "obj = json.load(open(\"../../data/train.json\"))"
   ]
  },
  {
   "cell_type": "code",
   "execution_count": 6,
   "id": "23a57e27-d7bc-4f4b-9472-f5c0ec5831c0",
   "metadata": {},
   "outputs": [
    {
     "data": {
      "text/plain": [
       "39774"
      ]
     },
     "execution_count": 6,
     "metadata": {},
     "output_type": "execute_result"
    }
   ],
   "source": [
    "len(obj)"
   ]
  },
  {
   "cell_type": "code",
   "execution_count": 7,
   "id": "42ac6001-7c47-4dd6-bfc1-a78efbb6dcd5",
   "metadata": {},
   "outputs": [],
   "source": [
    "from sklearn.model_selection import train_test_split"
   ]
  },
  {
   "cell_type": "code",
   "execution_count": 15,
   "id": "688fb346-9665-47db-9bbf-7f10c919b7c0",
   "metadata": {},
   "outputs": [],
   "source": [
    "train, test = train_test_split(obj, train_size=0.8, shuffle=True)"
   ]
  },
  {
   "cell_type": "code",
   "execution_count": 16,
   "id": "36587643-1d90-48e7-87d7-2de82ba211de",
   "metadata": {},
   "outputs": [
    {
     "data": {
      "text/plain": [
       "31819"
      ]
     },
     "execution_count": 16,
     "metadata": {},
     "output_type": "execute_result"
    }
   ],
   "source": [
    "len(train)"
   ]
  },
  {
   "cell_type": "code",
   "execution_count": 17,
   "id": "b3df910b-0e45-4e6a-880c-4a07e36ff0dd",
   "metadata": {},
   "outputs": [
    {
     "data": {
      "text/plain": [
       "7955"
      ]
     },
     "execution_count": 17,
     "metadata": {},
     "output_type": "execute_result"
    }
   ],
   "source": [
    "len(test)"
   ]
  },
  {
   "cell_type": "code",
   "execution_count": 20,
   "id": "a5eb6e37-692a-46d9-bb56-af9a2c510341",
   "metadata": {},
   "outputs": [],
   "source": [
    "with open(\"train.json\", \"w\") as f:\n",
    "    trainset = json.dumps(train)\n",
    "    f.write(trainset)"
   ]
  },
  {
   "cell_type": "code",
   "execution_count": 21,
   "id": "a3871257-a533-460a-9c56-e0488f651b7a",
   "metadata": {},
   "outputs": [],
   "source": [
    "with open(\"test.json\", \"w\") as f:\n",
    "    testset = json.dumps(test)\n",
    "    f.write(testset)"
   ]
  },
  {
   "cell_type": "code",
   "execution_count": null,
   "id": "1cfcd352-9d0e-4949-929d-572e719ed548",
   "metadata": {},
   "outputs": [],
   "source": []
  }
 ],
 "metadata": {
  "kernelspec": {
   "display_name": "CuisineGuessr",
   "language": "python",
   "name": "423-project"
  },
  "language_info": {
   "codemirror_mode": {
    "name": "ipython",
    "version": 3
   },
   "file_extension": ".py",
   "mimetype": "text/x-python",
   "name": "python",
   "nbconvert_exporter": "python",
   "pygments_lexer": "ipython3",
   "version": "3.9.4"
  }
 },
 "nbformat": 4,
 "nbformat_minor": 5
}
